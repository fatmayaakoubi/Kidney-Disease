{
 "cells": [
  {
   "cell_type": "code",
   "execution_count": 1,
   "id": "63c063d4-4831-4b83-a6ac-9f4c1fa6963e",
   "metadata": {},
   "outputs": [
    {
     "name": "stdout",
     "output_type": "stream",
     "text": [
      "Requirement already satisfied: flask-ngrok in c:\\users\\admin\\anaconda3\\lib\\site-packages (0.0.25)\n",
      "Requirement already satisfied: requests in c:\\users\\admin\\anaconda3\\lib\\site-packages (from flask-ngrok) (2.25.1)\n",
      "Requirement already satisfied: Flask>=0.8 in c:\\users\\admin\\anaconda3\\lib\\site-packages (from flask-ngrok) (1.1.2)\n",
      "Requirement already satisfied: Werkzeug>=0.15 in c:\\users\\admin\\anaconda3\\lib\\site-packages (from Flask>=0.8->flask-ngrok) (1.0.1)\n",
      "Requirement already satisfied: click>=5.1 in c:\\users\\admin\\anaconda3\\lib\\site-packages (from Flask>=0.8->flask-ngrok) (7.1.2)\n",
      "Requirement already satisfied: itsdangerous>=0.24 in c:\\users\\admin\\anaconda3\\lib\\site-packages (from Flask>=0.8->flask-ngrok) (1.1.0)\n",
      "Requirement already satisfied: Jinja2>=2.10.1 in c:\\users\\admin\\anaconda3\\lib\\site-packages (from Flask>=0.8->flask-ngrok) (2.11.3)\n",
      "Requirement already satisfied: MarkupSafe>=0.23 in c:\\users\\admin\\anaconda3\\lib\\site-packages (from Jinja2>=2.10.1->Flask>=0.8->flask-ngrok) (1.1.1)\n",
      "Requirement already satisfied: certifi>=2017.4.17 in c:\\users\\admin\\anaconda3\\lib\\site-packages (from requests->flask-ngrok) (2020.12.5)\n",
      "Requirement already satisfied: chardet<5,>=3.0.2 in c:\\users\\admin\\anaconda3\\lib\\site-packages (from requests->flask-ngrok) (4.0.0)\n",
      "Requirement already satisfied: idna<3,>=2.5 in c:\\users\\admin\\anaconda3\\lib\\site-packages (from requests->flask-ngrok) (2.10)\n",
      "Requirement already satisfied: urllib3<1.27,>=1.21.1 in c:\\users\\admin\\anaconda3\\lib\\site-packages (from requests->flask-ngrok) (1.26.4)\n"
     ]
    }
   ],
   "source": [
    "import numpy as np\n",
    "from flask import Flask, request, render_template\n",
    "import pickle\n",
    "!pip install flask-ngrok"
   ]
  },
  {
   "cell_type": "code",
   "execution_count": 2,
   "id": "dbdcb94c-843a-4fcf-9f6f-87d913ca4aa9",
   "metadata": {},
   "outputs": [
    {
     "name": "stdout",
     "output_type": "stream",
     "text": [
      " * Serving Flask app \"__main__\" (lazy loading)\n",
      " * Environment: production\n",
      "   WARNING: This is a development server. Do not use it in a production deployment.\n",
      "   Use a production WSGI server instead.\n",
      " * Debug mode: on\n"
     ]
    },
    {
     "name": "stderr",
     "output_type": "stream",
     "text": [
      " * Restarting with windowsapi reloader\n"
     ]
    },
    {
     "ename": "SystemExit",
     "evalue": "1",
     "output_type": "error",
     "traceback": [
      "An exception has occurred, use %tb to see the full traceback.\n",
      "\u001b[1;31mSystemExit\u001b[0m\u001b[1;31m:\u001b[0m 1\n"
     ]
    },
    {
     "name": "stderr",
     "output_type": "stream",
     "text": [
      "C:\\Users\\admin\\anaconda3\\lib\\site-packages\\IPython\\core\\interactiveshell.py:3445: UserWarning: To exit: use 'exit', 'quit', or Ctrl-D.\n",
      "  warn(\"To exit: use 'exit', 'quit', or Ctrl-D.\", stacklevel=1)\n"
     ]
    }
   ],
   "source": [
    "import numpy as np\n",
    "from flask import Flask, request, render_template\n",
    "import pickle\n",
    "from sklearn.preprocessing import LabelEncoder\n",
    "\n",
    "app = Flask(__name__)\n",
    "\n",
    "#load the model\n",
    "dtc = pickle.load(open('modele_ckd','rb'))\n",
    "\n",
    "\n",
    "@app.route('/')\n",
    "def home():\n",
    "    return render_template('index.html')\n",
    "\n",
    "@app.route('/predict',methods=['POST'])\n",
    "def predict():\n",
    "    '''\n",
    "    For rendering results on HTML GUI\n",
    "    '''\n",
    "    x_test = [[x for x in request.form.values()]]\n",
    "    #x_test = [[80,\"female\",\"other\",80,1.02,0.0,0.0,26,20,15.8,49,6600,5.4,'yes']]\n",
    "    print(x_test)\n",
    "    \n",
    "    \n",
    "    le.classes_ = np.load('le_for_htn.npy', allow_pickle=True)\n",
    "\n",
    "   \n",
    "    \n",
    "    sg = float(x_test[0][0])\n",
    "    htn = float([x_test[0][1]]) \n",
    "    dm = float(x_test[0][2])\n",
    "    hemo = float(x_test[0][3])\n",
    "    pcv = float(x_test[0][4])\n",
    "    al = float(x_test[0][5])\n",
    "    appe = float(x_test[0][6])\n",
    "    rbcc = float(x_test[0][7])\n",
    "    pc = float(x_test[0][8])\n",
    "    sc = float(x_test[0][9])\n",
    "    pe = float(x_test[0][10])\n",
    "    \n",
    "    ane = float(x_test[0][11])\n",
    "    bp = float(x_test[0][12])\n",
    "    bgr = float(x_test[0][13])\n",
    "    rbc = float(x_test[0][14])\n",
    "    su = float(x_test[0][15])\n",
    "    sod = float(x_test[0][16])\n",
    "    \n",
    "    prediction = dtc.predict([[sg, htn, dm, hemo, pcv, al, appe, rbcc, pc, sc, pe, ane, bp, bgr , rbc , su , sod]])\n",
    "    print(prediction)\n",
    "    op_class = ['ckd','notckd']\n",
    "    output = op_class[prediction[0]]\n",
    "    return render_template('form.html', prediction = output)\n",
    "    \n",
    "\n",
    "\n",
    "if __name__ == \"__main__\":\n",
    "    app.run(debug=True)"
   ]
  },
  {
   "cell_type": "code",
   "execution_count": null,
   "id": "c4152c51-f808-44df-a0d5-749563466e89",
   "metadata": {},
   "outputs": [],
   "source": []
  },
  {
   "cell_type": "code",
   "execution_count": null,
   "id": "b20d2d6f-4318-4790-99d1-03794c2b4b8f",
   "metadata": {},
   "outputs": [],
   "source": []
  }
 ],
 "metadata": {
  "kernelspec": {
   "display_name": "Python 3",
   "language": "python",
   "name": "python3"
  },
  "language_info": {
   "codemirror_mode": {
    "name": "ipython",
    "version": 3
   },
   "file_extension": ".py",
   "mimetype": "text/x-python",
   "name": "python",
   "nbconvert_exporter": "python",
   "pygments_lexer": "ipython3",
   "version": "3.8.8"
  }
 },
 "nbformat": 4,
 "nbformat_minor": 5
}
